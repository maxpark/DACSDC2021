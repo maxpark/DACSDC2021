{
 "cells": [
  {
   "cell_type": "code",
   "execution_count": 3,
   "metadata": {},
   "outputs": [],
   "source": [
    "import argparse\n",
    "import json\n",
    "from torch.utils.data import DataLoader\n",
    "from thop import profile\n",
    "from ptflops import get_model_complexity_info"
   ]
  },
  {
   "cell_type": "code",
   "execution_count": 4,
   "metadata": {},
   "outputs": [],
   "source": [
    "from models import *\n",
    "from utils.datasets import *\n",
    "from utils.utils import *\n",
    "from quant_dorefa import *\n",
    "\n",
    "from mymodel import *\n",
    "from torchsummary import summary"
   ]
  },
  {
   "cell_type": "code",
   "execution_count": 5,
   "metadata": {},
   "outputs": [],
   "source": [
    "model = torch.load('weights/4w4a/test_best.pt', map_location=torch.device('cpu'))\n",
    "# model = UltraNet()\n",
    "# model.load_state_dict(checkpoint[])\n",
    "# model.hyp = hyp\n",
    "# model.nc = 1\n",
    "# model.arc = 'default'"
   ]
  },
  {
   "cell_type": "code",
   "execution_count": 7,
   "metadata": {},
   "outputs": [],
   "source": [
    "# print(model.parameters())\n",
    "# print(model['model'])\n",
    "# for layers in model:\n",
    "#     print(layers)\n",
    "# summary(model, (3, 320, 160))"
   ]
  },
  {
   "cell_type": "code",
   "execution_count": 8,
   "metadata": {},
   "outputs": [
    {
     "name": "stdout",
     "output_type": "stream",
     "text": [
      "Model's state_dict:\n",
      "layers.0.weight torch.Size([16, 3, 3, 3])\n",
      "layers.4.weight torch.Size([32, 16, 3, 3])\n",
      "layers.8.weight torch.Size([64, 32, 3, 3])\n",
      "layers.12.weight torch.Size([64, 64, 3, 3])\n",
      "layers.16.weight torch.Size([64, 64, 3, 3])\n",
      "layers.19.weight torch.Size([64, 64, 3, 3])\n",
      "layers.22.weight torch.Size([64, 64, 3, 3])\n",
      "layers.25.weight torch.Size([64, 64, 3, 3])\n",
      "layers.28.weight torch.Size([36, 64, 1, 1])\n"
     ]
    }
   ],
   "source": [
    "print(\"Model's state_dict:\")\n",
    "for param_tensor in model['model']:\n",
    "#     print(param_tensor, \"\\t\", model.state_dict()[param_tensor].size())\n",
    "    if(len(model['model'][param_tensor].size()) > 1):\n",
    "        print(param_tensor, model['model'][param_tensor].size())\n",
    "\n",
    "# print(model['model']['layers.0.weight'])    "
   ]
  },
  {
   "cell_type": "code",
   "execution_count": 9,
   "metadata": {},
   "outputs": [],
   "source": [
    "conv_0_weight = model['model']['layers.0.weight']\n",
    "conv_1_weight = model['model']['layers.4.weight']\n",
    "conv_2_weight = model['model']['layers.8.weight']\n",
    "conv_3_weight = model['model']['layers.12.weight']\n",
    "conv_4_weight = model['model']['layers.16.weight']\n",
    "conv_5_weight = model['model']['layers.19.weight']\n",
    "conv_6_weight = model['model']['layers.22.weight']\n",
    "conv_7_weight = model['model']['layers.25.weight']\n",
    "conv_8_weight = model['model']['layers.28.weight']\n",
    "# print(conv_0_weight.data[0])\n",
    "# torch.save(conv_0_weight, 'conv_0_original.txt')"
   ]
  },
  {
   "cell_type": "code",
   "execution_count": 10,
   "metadata": {},
   "outputs": [],
   "source": [
    "def get_w_quant(in_f, k):\n",
    "    in_f = torch.tanh(in_f)\n",
    "    n = float(2 ** (k-1)  - 1)\n",
    "    out = torch.round(in_f * n) / n\n",
    "    return out\n",
    "\n",
    "def get_w_int(in_f, k):\n",
    "    in_f = torch.tanh(in_f)\n",
    "    n = float(2 ** (k-1)  - 1)\n",
    "    out = torch.round(in_f * n)\n",
    "    return out"
   ]
  },
  {
   "cell_type": "code",
   "execution_count": 11,
   "metadata": {},
   "outputs": [],
   "source": [
    "def print_hex_line(in_f, size_value, SIMD, PE):\n",
    "    print(size_value)\n",
    "    print('{', end='')\n",
    "    for i in range(0, size_value[0]):  # OUT_channel traverse\n",
    "        if i%(size_value[0]/PE) == 0:\n",
    "            print('')\n",
    "            print('{', end = '')\n",
    "        for k1 in range(0, size_value[2]): # kernel trverse\n",
    "            for k2 in range(0, size_value[3]): # kernel traverse\n",
    "                for j in range(0, size_value[1]): # In_channel traverse\n",
    "                    if in_f[i][j][k1][k2] < 0:\n",
    "                        in_f[i][j][k1][k2] = in_f[i][j][k1][k2] * (-1) + 8\n",
    "                    if j/(size_value[1]/SIMD) == 0:\n",
    "                        print('\"0x', end='')\n",
    "                    formatted_data = format(int(in_f[i][j][k1][k2].item()), \"x\")\n",
    "#                     print(formatted_data, end = '')\n",
    "                    print(i, end='')\n",
    "                    if size_value[1] <= SIMD:\n",
    "                        if i == size_value[0]/PE -1:\n",
    "                            print('\"}', end='')\n",
    "                        else:\n",
    "                            if j == size_value[1]-1:\n",
    "                                print('\",', end='')\n",
    "#                             else:\n",
    "                    else:\n",
    "                        if int((j+1)%(size_value[1]/SIMD)) == 0:\n",
    "                            print('\",', end='')\n",
    "    print('}', end = '')"
   ]
  },
  {
   "cell_type": "code",
   "execution_count": 12,
   "metadata": {},
   "outputs": [],
   "source": [
    "def weight_reorg_2d(in_f, size_value, SIMD, PE):\n",
    "    print(size_value)\n",
    "    K = size_value[2]\n",
    "    IN_CH = size_value[1]\n",
    "    OUT_CH = size_value[0]\n",
    "#     weight_store[OUT_CH][OUT_CH*IN_CH*K*K]\n",
    "    rows, cols = (OUT_CH, IN_CH*K*K)\n",
    "    weight_store = [[0 for i in range(cols)] for j in range(rows)]\n",
    "#     dim_1 = PE\n",
    "#     dim_2 = K*K*OUT_CH/PE*IN_CH*SIMD\n",
    "    \n",
    "    for out_channel in range(0, OUT_CH):\n",
    "        for in_channel in range(0, IN_CH):\n",
    "            for ker1 in range(0, K):\n",
    "                for ker2 in range(0, K):\n",
    "                    weight_store[out_channel][in_channel*K*K + ker1*K + ker2] = int(in_f[out_channel][in_channel][ker1][ker2].item());\n",
    "    return weight_store, rows, cols\n",
    "\n",
    "def weight_print(weight_2d, rows, cols, SIMD, PE):\n",
    "    print('out_dim = ', int(PE), ',', int((cols/SIMD)*(rows/PE)))\n",
    "    print('{')\n",
    "    for i in range(0, rows):\n",
    "        if i%(rows/PE) == 0:\n",
    "            print('')\n",
    "            print('{')\n",
    "        simd_cnt = 0\n",
    "        for j in range(0, cols):\n",
    "            if weight_2d[i][j] < 0:\n",
    "                weight_2d[i][j] = weight_2d[i][j] * (-1) + 8\n",
    "            if j%SIMD == 0:\n",
    "                print('\"0x', end='')\n",
    "            formatted_data = format(int(weight_2d[i][j]), \"x\")\n",
    "            print(formatted_data, end='')\n",
    "            simd_cnt = simd_cnt + 1\n",
    "            if simd_cnt%SIMD == 0:\n",
    "                if j == cols-1 and (i+1)%(rows/PE)==0:\n",
    "                    if j == cols -1 and i == rows-1:\n",
    "                        print('\"}')\n",
    "                    else:\n",
    "                        print('\"},', end='')\n",
    "                else:\n",
    "                    print('\",', end='')\n",
    "    print('}')"
   ]
  },
  {
   "cell_type": "code",
   "execution_count": 18,
   "metadata": {},
   "outputs": [
    {
     "name": "stdout",
     "output_type": "stream",
     "text": [
      "torch.Size([36, 64, 1, 1])\n",
      "36 64\n",
      "out_dim =  2 , 144\n",
      "{\n",
      "\n",
      "{\n",
      "\"0x910e00a0\",\"0x606e0000\",\"0x66040001\",\"0xee0e006e\",\"0x00001609\",\"0xb0300000\",\"0x01000ee6\",\"0x500e0010\",\"0xa602e03a\",\"0x50600000\",\"0x0ee6200d\",\"0x0a9001b6\",\"0x09e06060\",\"0x60e00190\",\"0xe200e6e0\",\"0xd00de606\",\"0x31010c60\",\"0x00003010\",\"0x01000daa\",\"0x00190019\",\"0x02000095\",\"0x000004e0\",\"0x04001099\",\"0x0a000030\",\"0xa1000030\",\"0x00102020\",\"0x091109ab\",\"0x00c00001\",\"0x040000a0\",\"0x1090b0a0\",\"0x01004090\",\"0x0d00009d\",\"0x4ddeeb4e\",\"0xde6eaebe\",\"0xe21ddddc\",\"0xe6c0eed4\",\"0xeceeee1b\",\"0xbe3eba9e\",\"0xdaee0d04\",\"0x9ceddeca\",\"0x01900000\",\"0x90011000\",\"0x19000001\",\"0x99101099\",\"0x91090001\",\"0x00090900\",\"0x00000090\",\"0x00019000\",\"0x010e00a0\",\"0x606e0000\",\"0x66040001\",\"0xee0e006e\",\"0x00001609\",\"0xb0300000\",\"0x01000ee6\",\"0x500e0010\",\"0xa602e03a\",\"0x50600000\",\"0x0ee6200d\",\"0x0a9000b6\",\"0x09e06060\",\"0x60e00190\",\"0xe200e6e0\",\"0xd00de606\",\"0x31010c60\",\"0x00003010\",\"0x01000daa\",\"0x00190019\",\"0x02000095\",\"0x000004e0\",\"0x04001099\",\"0x0a000030\",\"0xa1000030\",\"0x00102020\",\"0x091109ab\",\"0x00c00001\",\"0x040000a0\",\"0x1090b0a0\",\"0x01004090\",\"0x0d00009d\",\"0x4ddeeb4e\",\"0xde6eaebe\",\"0xe21ddddc\",\"0xe6c0eed4\",\"0xeceeee1b\",\"0xbe3eca9e\",\"0xdaee0d04\",\"0x9ceddeca\",\"0x10091000\",\"0x11019991\",\"0x00099919\",\"0x11901000\",\"0x91009900\",\"0x00010199\",\"0x00000101\",\"0x00101009\",\"0x010e00a0\",\"0x606e0000\",\"0x66040001\",\"0xee0e006e\",\"0x00001609\",\"0xb0300000\",\"0x01000ee6\",\"0x500e0010\",\"0xa602e03a\",\"0x50600000\",\"0x0ee6200d\",\"0x0b9001b6\",\"0x09e06060\",\"0x60e00190\",\"0xe200e6e0\",\"0xd00de606\",\"0x31010c60\",\"0x00003010\",\"0x01000daa\",\"0x00190019\",\"0x02000095\",\"0x000004e0\",\"0x04001009\",\"0x0a000030\",\"0xa1000030\",\"0x00102020\",\"0x091109ab\",\"0x00c00001\",\"0x040000a0\",\"0x1090b0a0\",\"0x01004090\",\"0x0d00009d\",\"0x4ddeeb4e\",\"0xde6eaebe\",\"0xe21ddddc\",\"0xe6c0eed4\",\"0xeceeee1b\",\"0xbe3eca9e\",\"0xdaee0d04\",\"0x9ceddeca\",\"0x00901000\",\"0x90090910\",\"0x00190000\",\"0x19001910\",\"0x00999001\",\"0x00100109\",\"0x19011100\",\"0x10091010\"},\n",
      "{\n",
      "\"0x010e00a0\",\"0x606e0000\",\"0x66040001\",\"0xee0e006e\",\"0x00001609\",\"0xb0300000\",\"0x01000ee6\",\"0x500e0010\",\"0xa602e03a\",\"0x50600000\",\"0x0ee6200d\",\"0x0a9000b6\",\"0x09e06060\",\"0x60e00190\",\"0xe200e6e0\",\"0xd00de606\",\"0x31010c60\",\"0x00003010\",\"0x01000daa\",\"0x00190019\",\"0x02000095\",\"0x000004e0\",\"0x04001009\",\"0x0a000030\",\"0xa1000030\",\"0x00102020\",\"0x091109ab\",\"0x00c00001\",\"0x040000a0\",\"0x1090b0a0\",\"0x01004090\",\"0x0d00009d\",\"0x4ddeeb4e\",\"0xde6eaebe\",\"0xe21ddddc\",\"0xe6c0eed4\",\"0xeceeee1b\",\"0xbe3eca9e\",\"0xdaee0d04\",\"0x9ceddeca\",\"0x00900119\",\"0x10000909\",\"0x09000000\",\"0x00000109\",\"0x01091190\",\"0x00909100\",\"0x00090910\",\"0x01110190\",\"0x910e00a0\",\"0x606e0000\",\"0x66040001\",\"0xee0e006e\",\"0x00001609\",\"0xb0300000\",\"0x01000ee6\",\"0x500e0010\",\"0xa602e03a\",\"0x50600000\",\"0x0ee6200d\",\"0x0a9000b6\",\"0x09e06060\",\"0x60e00190\",\"0xe300e6e0\",\"0xd00de606\",\"0x31910c60\",\"0x00003010\",\"0x01000daa\",\"0x00190019\",\"0x02000095\",\"0x000004e0\",\"0x04001009\",\"0x0a000030\",\"0xa1000030\",\"0x00102020\",\"0x091109ab\",\"0x00c00001\",\"0x040000a0\",\"0x1090b0a0\",\"0x01004090\",\"0x0d00009d\",\"0x4ddeeb4e\",\"0xde6eaebe\",\"0xe21ddddc\",\"0xe6c0eed4\",\"0xeceeee1b\",\"0xbe3eca9e\",\"0xdaee0d04\",\"0x9ceddeca\",\"0x01009010\",\"0x00190090\",\"0x09919100\",\"0x91100009\",\"0x00000909\",\"0x10099000\",\"0x19990100\",\"0x00101091\",\"0x010e00a0\",\"0x606e0000\",\"0x66040001\",\"0xee0e006e\",\"0x00001609\",\"0xb0300000\",\"0x01000ee6\",\"0x500e0010\",\"0xa602e03a\",\"0x50600000\",\"0x0ee6200d\",\"0x0a9001b6\",\"0x09e06060\",\"0x60e00190\",\"0xe200e6e0\",\"0xd00de606\",\"0x31010c60\",\"0x00003010\",\"0x01000daa\",\"0x00190019\",\"0x02000095\",\"0x000004e0\",\"0x04001009\",\"0x0a000030\",\"0xa1000030\",\"0x00102020\",\"0x091109ab\",\"0x00c00001\",\"0x040000a0\",\"0x1090b0a0\",\"0x01004090\",\"0x0d00009d\",\"0x4ddeec4e\",\"0xde6eaebe\",\"0xe21ddddc\",\"0xe6c0eed4\",\"0xeceeee1b\",\"0xbe3eca9e\",\"0xdaee0d04\",\"0x9ceddeca\",\"0x00010000\",\"0x00000000\",\"0x90019001\",\"0x19019000\",\"0x90000900\",\"0x09000900\",\"0x10990001\",\"0x09090090\"}\n",
      "}\n"
     ]
    }
   ],
   "source": [
    "conv_0_wq = get_w_int(conv_8_weight, 4)\n",
    "PE = 2\n",
    "SIMD = 8\n",
    "# print(conv_1_wq.data[0][0])\n",
    "size_value = conv_0_wq.size()\n",
    "# conv_0_wq = conv_0_wq.cpu()\n",
    "# conv_0_wq = get_w_int(conv_0_wq, 4)\n",
    "weight_store, rows, cols = weight_reorg_2d(conv_0_wq, size_value, 0, 0)\n",
    "print(rows, cols)\n",
    "weight_print(weight_store, rows, cols, SIMD, PE)"
   ]
  },
  {
   "cell_type": "code",
   "execution_count": null,
   "metadata": {
    "scrolled": false
   },
   "outputs": [],
   "source": [
    "conv_0_wq = get_w_int(conv_0_weight, 4)\n",
    "PE = 2\n",
    "SIMD = 8\n",
    "# print(conv_1_wq.data[0][0])\n",
    "size_value = conv_0_wq.size()\n",
    "conv_0_wq = conv_0_wq.cpu()\n",
    "print_hex_line(conv_0_wq.data, size_value, SIMD, PE)\n",
    "# print(size_value[1])"
   ]
  },
  {
   "cell_type": "code",
   "execution_count": null,
   "metadata": {},
   "outputs": [],
   "source": []
  },
  {
   "cell_type": "code",
   "execution_count": null,
   "metadata": {},
   "outputs": [],
   "source": []
  },
  {
   "cell_type": "code",
   "execution_count": null,
   "metadata": {},
   "outputs": [],
   "source": []
  },
  {
   "cell_type": "code",
   "execution_count": null,
   "metadata": {},
   "outputs": [],
   "source": []
  },
  {
   "cell_type": "code",
   "execution_count": null,
   "metadata": {},
   "outputs": [],
   "source": []
  },
  {
   "cell_type": "code",
   "execution_count": null,
   "metadata": {},
   "outputs": [],
   "source": []
  },
  {
   "cell_type": "code",
   "execution_count": null,
   "metadata": {},
   "outputs": [],
   "source": [
    "print(size_value)"
   ]
  },
  {
   "cell_type": "code",
   "execution_count": null,
   "metadata": {},
   "outputs": [],
   "source": []
  }
 ],
 "metadata": {
  "kernelspec": {
   "display_name": "Python 3",
   "language": "python",
   "name": "python3"
  },
  "language_info": {
   "codemirror_mode": {
    "name": "ipython",
    "version": 3
   },
   "file_extension": ".py",
   "mimetype": "text/x-python",
   "name": "python",
   "nbconvert_exporter": "python",
   "pygments_lexer": "ipython3",
   "version": "3.7.7"
  }
 },
 "nbformat": 4,
 "nbformat_minor": 2
}
